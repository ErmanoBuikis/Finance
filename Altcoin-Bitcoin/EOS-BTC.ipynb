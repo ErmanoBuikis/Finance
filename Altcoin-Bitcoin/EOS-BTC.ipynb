{
 "cells": [
  {
   "cell_type": "markdown",
   "metadata": {},
   "source": [
    "# <font color='purple'> Altcoin vs  Bitcoin Data analysis project </font>\n",
    "____\n",
    "##  <font color='green'> Strategy </font> \n",
    "\n",
    "#### 1. Trigger for opening a position\n",
    "- Dato almeno 2 giorni positivi (2 barre verdi ad alto volume) e con un corpo ampio, che devono essere prima di una rossa ad 1D.\n",
    "- La candela rossa deve avere range R che puo' essere di diversa natura: \n",
    "    - R =  Range di prezzo fra Fibonacci al livello sotto 0.5 fino al livello sopra. \n",
    "    - R =  Corpo candela rossa / ( corpo candela verde 1 + corpo candela verde 2 )  \n",
    "\n",
    "\n",
    "\n",
    "#### 2. Open Position\n",
    "    When the trigger is activated:\n",
    "  - BUY BTC : Spot account Binance\n",
    "  - OPEN Short position with Altcoin: Perpetual Binance Futures\n",
    "  \n",
    "#### 3. Trigger for closing a position\n",
    "   - Hit Take Profit (TP) or Stop Loss (SL)\n",
    "   - Close for too long past \n",
    "\n",
    "#### 4. Close Position\n",
    "  - SELL BTC : Spot account Binance\n",
    "  - CLOSE Short position with Altcoin: Perpetual Binance Future\n",
    "\n",
    "___\n",
    "____\n",
    "____\n",
    "\n",
    "\n",
    "### <font color='green'> Caratteristiche strategia: </font>  \n",
    "1. Per lo short guadagni 0.15% ogni 8h. E quello sarebbe l'unico guadagno, dato che compri assieme anche BTC (spot account).\n",
    "2. Dopo che le altcoin (vs BTC) salgono tantissimo, di solito scendono dopo un picco.\n",
    "3. Timeframe 4h/1D\n",
    "\n",
    "___\n",
    "____\n",
    "____\n",
    "\n",
    "\n",
    "###  <font color='green'> Punti critici di questa strategia: </font>   \n",
    "- BTC scende e l'altcoin sale\n",
    "- Non so quando chiudere\n",
    "- Sizing degli short, e se possono essere multi shorts\n",
    "\n",
    "___\n",
    "____\n",
    "____\n",
    "\n",
    "\n",
    "\n",
    "### MIGLIORARE\n",
    "- TP/SL\n",
    "- Max time open operation\n",
    "- Range corpo candela rossa per il trigger dellla strategia \n",
    "\n",
    "___\n",
    "____\n",
    "____\n",
    "\n",
    "#### OUTPUT teorico della STATISTICA\n",
    "- Il tempo medio di chiusura dei trade dato un input, Intervallo di confidenza.\n",
    "- Il range ottimale del corpo della candela rossa \n",
    "\n",
    "\n",
    "\n"
   ]
  },
  {
   "cell_type": "markdown",
   "metadata": {},
   "source": [
    "______\n",
    "______\n",
    "______\n",
    "\n",
    "## <font color='purple'> Analysis with Python 3 </font>\n",
    "\n",
    "### <font color='blue'> Load data </font>"
   ]
  },
  {
   "cell_type": "code",
   "execution_count": 202,
   "metadata": {},
   "outputs": [],
   "source": [
    "import numpy as np\n",
    "import pandas as pd\n",
    "import sys\n",
    "import matplotlib.pyplot as plt\n",
    "import seaborn as sns\n",
    "%matplotlib inline"
   ]
  },
  {
   "cell_type": "code",
   "execution_count": 203,
   "metadata": {},
   "outputs": [
    {
     "data": {
      "text/plain": [
       "'/home/moebius/Desktop/ALT-BTC'"
      ]
     },
     "execution_count": 203,
     "metadata": {},
     "output_type": "execute_result"
    }
   ],
   "source": [
    "file_path = sys.path[0]\n",
    "file_path"
   ]
  },
  {
   "cell_type": "code",
   "execution_count": 204,
   "metadata": {},
   "outputs": [],
   "source": [
    "df = pd.read_csv(file_path+\"/Binance_EOSBTC.csv\",\n",
    "                     index_col=0, \n",
    "                     parse_dates=True,\n",
    "                     infer_datetime_format=True)"
   ]
  },
  {
   "cell_type": "markdown",
   "metadata": {},
   "source": [
    "________\n",
    "________\n",
    "________\n",
    "### <font color='blue'> Exploratory analysis </font>"
   ]
  },
  {
   "cell_type": "code",
   "execution_count": 205,
   "metadata": {},
   "outputs": [
    {
     "data": {
      "text/html": [
       "<div>\n",
       "<style scoped>\n",
       "    .dataframe tbody tr th:only-of-type {\n",
       "        vertical-align: middle;\n",
       "    }\n",
       "\n",
       "    .dataframe tbody tr th {\n",
       "        vertical-align: top;\n",
       "    }\n",
       "\n",
       "    .dataframe thead th {\n",
       "        text-align: right;\n",
       "    }\n",
       "</style>\n",
       "<table border=\"1\" class=\"dataframe\">\n",
       "  <thead>\n",
       "    <tr style=\"text-align: right;\">\n",
       "      <th></th>\n",
       "      <th>date</th>\n",
       "      <th>symbol</th>\n",
       "      <th>open</th>\n",
       "      <th>high</th>\n",
       "      <th>low</th>\n",
       "      <th>close</th>\n",
       "      <th>Volume EOS</th>\n",
       "      <th>Volume BTC</th>\n",
       "      <th>tradecount</th>\n",
       "    </tr>\n",
       "    <tr>\n",
       "      <th>unix</th>\n",
       "      <th></th>\n",
       "      <th></th>\n",
       "      <th></th>\n",
       "      <th></th>\n",
       "      <th></th>\n",
       "      <th></th>\n",
       "      <th></th>\n",
       "      <th></th>\n",
       "      <th></th>\n",
       "    </tr>\n",
       "  </thead>\n",
       "  <tbody>\n",
       "    <tr>\n",
       "      <th>1615852800000</th>\n",
       "      <td>2021-03-16 00:00:00</td>\n",
       "      <td>EOS/BTC</td>\n",
       "      <td>0.000069</td>\n",
       "      <td>0.000069</td>\n",
       "      <td>0.000069</td>\n",
       "      <td>0.000069</td>\n",
       "      <td>21863.05</td>\n",
       "      <td>1.501624</td>\n",
       "      <td>317</td>\n",
       "    </tr>\n",
       "    <tr>\n",
       "      <th>1615766400000</th>\n",
       "      <td>2021-03-15 00:00:00</td>\n",
       "      <td>EOS/BTC</td>\n",
       "      <td>0.000067</td>\n",
       "      <td>0.000069</td>\n",
       "      <td>0.000065</td>\n",
       "      <td>0.000069</td>\n",
       "      <td>4971908.73</td>\n",
       "      <td>334.720452</td>\n",
       "      <td>27538</td>\n",
       "    </tr>\n",
       "    <tr>\n",
       "      <th>1615680000000</th>\n",
       "      <td>2021-03-14 00:00:00</td>\n",
       "      <td>EOS/BTC</td>\n",
       "      <td>0.000070</td>\n",
       "      <td>0.000072</td>\n",
       "      <td>0.000067</td>\n",
       "      <td>0.000067</td>\n",
       "      <td>3455669.25</td>\n",
       "      <td>236.825335</td>\n",
       "      <td>22549</td>\n",
       "    </tr>\n",
       "  </tbody>\n",
       "</table>\n",
       "</div>"
      ],
      "text/plain": [
       "                              date   symbol      open      high       low  \\\n",
       "unix                                                                        \n",
       "1615852800000  2021-03-16 00:00:00  EOS/BTC  0.000069  0.000069  0.000069   \n",
       "1615766400000  2021-03-15 00:00:00  EOS/BTC  0.000067  0.000069  0.000065   \n",
       "1615680000000  2021-03-14 00:00:00  EOS/BTC  0.000070  0.000072  0.000067   \n",
       "\n",
       "                  close  Volume EOS  Volume BTC  tradecount  \n",
       "unix                                                         \n",
       "1615852800000  0.000069    21863.05    1.501624         317  \n",
       "1615766400000  0.000069  4971908.73  334.720452       27538  \n",
       "1615680000000  0.000067  3455669.25  236.825335       22549  "
      ]
     },
     "execution_count": 205,
     "metadata": {},
     "output_type": "execute_result"
    }
   ],
   "source": [
    "df.head(3)"
   ]
  },
  {
   "cell_type": "code",
   "execution_count": 206,
   "metadata": {},
   "outputs": [
    {
     "data": {
      "text/html": [
       "<div>\n",
       "<style scoped>\n",
       "    .dataframe tbody tr th:only-of-type {\n",
       "        vertical-align: middle;\n",
       "    }\n",
       "\n",
       "    .dataframe tbody tr th {\n",
       "        vertical-align: top;\n",
       "    }\n",
       "\n",
       "    .dataframe thead th {\n",
       "        text-align: right;\n",
       "    }\n",
       "</style>\n",
       "<table border=\"1\" class=\"dataframe\">\n",
       "  <thead>\n",
       "    <tr style=\"text-align: right;\">\n",
       "      <th></th>\n",
       "      <th>count</th>\n",
       "      <th>mean</th>\n",
       "      <th>std</th>\n",
       "      <th>min</th>\n",
       "      <th>25%</th>\n",
       "      <th>50%</th>\n",
       "      <th>75%</th>\n",
       "      <th>max</th>\n",
       "    </tr>\n",
       "  </thead>\n",
       "  <tbody>\n",
       "    <tr>\n",
       "      <th>open</th>\n",
       "      <td>103.0</td>\n",
       "      <td>9.596019e-05</td>\n",
       "      <td>2.623371e-05</td>\n",
       "      <td>0.000066</td>\n",
       "      <td>7.750000e-05</td>\n",
       "      <td>8.550000e-05</td>\n",
       "      <td>1.013000e-04</td>\n",
       "      <td>1.584000e-04</td>\n",
       "    </tr>\n",
       "    <tr>\n",
       "      <th>high</th>\n",
       "      <td>103.0</td>\n",
       "      <td>9.968738e-05</td>\n",
       "      <td>2.591340e-05</td>\n",
       "      <td>0.000069</td>\n",
       "      <td>8.075000e-05</td>\n",
       "      <td>9.170000e-05</td>\n",
       "      <td>1.072000e-04</td>\n",
       "      <td>1.625000e-04</td>\n",
       "    </tr>\n",
       "    <tr>\n",
       "      <th>low</th>\n",
       "      <td>103.0</td>\n",
       "      <td>9.155631e-05</td>\n",
       "      <td>2.578695e-05</td>\n",
       "      <td>0.000065</td>\n",
       "      <td>7.515000e-05</td>\n",
       "      <td>8.090000e-05</td>\n",
       "      <td>9.285000e-05</td>\n",
       "      <td>1.536000e-04</td>\n",
       "    </tr>\n",
       "    <tr>\n",
       "      <th>close</th>\n",
       "      <td>103.0</td>\n",
       "      <td>9.509223e-05</td>\n",
       "      <td>2.562799e-05</td>\n",
       "      <td>0.000066</td>\n",
       "      <td>7.735000e-05</td>\n",
       "      <td>8.510000e-05</td>\n",
       "      <td>1.000000e-04</td>\n",
       "      <td>1.572000e-04</td>\n",
       "    </tr>\n",
       "    <tr>\n",
       "      <th>Volume EOS</th>\n",
       "      <td>103.0</td>\n",
       "      <td>6.901781e+06</td>\n",
       "      <td>5.068901e+06</td>\n",
       "      <td>21863.050000</td>\n",
       "      <td>3.563374e+06</td>\n",
       "      <td>5.375000e+06</td>\n",
       "      <td>8.873722e+06</td>\n",
       "      <td>2.793215e+07</td>\n",
       "    </tr>\n",
       "    <tr>\n",
       "      <th>Volume BTC</th>\n",
       "      <td>103.0</td>\n",
       "      <td>6.245344e+02</td>\n",
       "      <td>4.559379e+02</td>\n",
       "      <td>1.501624</td>\n",
       "      <td>2.950930e+02</td>\n",
       "      <td>4.541848e+02</td>\n",
       "      <td>8.585020e+02</td>\n",
       "      <td>2.368061e+03</td>\n",
       "    </tr>\n",
       "    <tr>\n",
       "      <th>tradecount</th>\n",
       "      <td>103.0</td>\n",
       "      <td>3.748917e+04</td>\n",
       "      <td>2.514294e+04</td>\n",
       "      <td>317.000000</td>\n",
       "      <td>2.135100e+04</td>\n",
       "      <td>2.939700e+04</td>\n",
       "      <td>4.850800e+04</td>\n",
       "      <td>1.148760e+05</td>\n",
       "    </tr>\n",
       "  </tbody>\n",
       "</table>\n",
       "</div>"
      ],
      "text/plain": [
       "            count          mean           std           min           25%  \\\n",
       "open        103.0  9.596019e-05  2.623371e-05      0.000066  7.750000e-05   \n",
       "high        103.0  9.968738e-05  2.591340e-05      0.000069  8.075000e-05   \n",
       "low         103.0  9.155631e-05  2.578695e-05      0.000065  7.515000e-05   \n",
       "close       103.0  9.509223e-05  2.562799e-05      0.000066  7.735000e-05   \n",
       "Volume EOS  103.0  6.901781e+06  5.068901e+06  21863.050000  3.563374e+06   \n",
       "Volume BTC  103.0  6.245344e+02  4.559379e+02      1.501624  2.950930e+02   \n",
       "tradecount  103.0  3.748917e+04  2.514294e+04    317.000000  2.135100e+04   \n",
       "\n",
       "                     50%           75%           max  \n",
       "open        8.550000e-05  1.013000e-04  1.584000e-04  \n",
       "high        9.170000e-05  1.072000e-04  1.625000e-04  \n",
       "low         8.090000e-05  9.285000e-05  1.536000e-04  \n",
       "close       8.510000e-05  1.000000e-04  1.572000e-04  \n",
       "Volume EOS  5.375000e+06  8.873722e+06  2.793215e+07  \n",
       "Volume BTC  4.541848e+02  8.585020e+02  2.368061e+03  \n",
       "tradecount  2.939700e+04  4.850800e+04  1.148760e+05  "
      ]
     },
     "execution_count": 206,
     "metadata": {},
     "output_type": "execute_result"
    }
   ],
   "source": [
    "df.describe().transpose()"
   ]
  },
  {
   "cell_type": "code",
   "execution_count": 207,
   "metadata": {},
   "outputs": [
    {
     "name": "stdout",
     "output_type": "stream",
     "text": [
      "['date', 'symbol', 'open', 'high', 'low', 'close', 'Volume EOS', 'Volume BTC', 'tradecount']\n"
     ]
    }
   ],
   "source": [
    "cols = [i for i in list(df.columns)] # show me all the columns\n",
    "print(cols)"
   ]
  },
  {
   "cell_type": "code",
   "execution_count": 208,
   "metadata": {},
   "outputs": [
    {
     "data": {
      "text/plain": [
       "date          103\n",
       "symbol        103\n",
       "open          103\n",
       "high          103\n",
       "low           103\n",
       "close         103\n",
       "Volume EOS    103\n",
       "Volume BTC    103\n",
       "tradecount    103\n",
       "dtype: int64"
      ]
     },
     "execution_count": 208,
     "metadata": {},
     "output_type": "execute_result"
    }
   ],
   "source": [
    "df.count() # count the values of our dataframe, 103 days"
   ]
  },
  {
   "cell_type": "code",
   "execution_count": 209,
   "metadata": {},
   "outputs": [
    {
     "data": {
      "text/plain": [
       "date          103\n",
       "symbol        103\n",
       "open          103\n",
       "high          103\n",
       "low           103\n",
       "close         103\n",
       "Volume EOS    103\n",
       "Volume BTC    103\n",
       "tradecount    103\n",
       "dtype: int64"
      ]
     },
     "execution_count": 209,
     "metadata": {},
     "output_type": "execute_result"
    }
   ],
   "source": [
    "df.notnull().count() #  the dataframe seems without gaps"
   ]
  },
  {
   "cell_type": "markdown",
   "metadata": {},
   "source": [
    "________\n",
    "________\n",
    "________\n",
    "### Data Preprocessing"
   ]
  },
  {
   "cell_type": "code",
   "execution_count": 210,
   "metadata": {},
   "outputs": [],
   "source": [
    "#df = df.set_index(['date']).sort_index() # set date for index"
   ]
  },
  {
   "cell_type": "code",
   "execution_count": 211,
   "metadata": {},
   "outputs": [],
   "source": [
    "df = df.drop(['symbol'],axis=1)\n",
    "df = df.drop(['tradecount'],axis=1)"
   ]
  },
  {
   "cell_type": "code",
   "execution_count": 212,
   "metadata": {},
   "outputs": [],
   "source": [
    "# We have daily candle, so we can remove, hours, minutes and seconds from our data\n",
    "df['date']=df['date'].apply(lambda x: str(x).replace('00:00:00',''))"
   ]
  },
  {
   "cell_type": "code",
   "execution_count": 213,
   "metadata": {
    "scrolled": false
   },
   "outputs": [
    {
     "data": {
      "text/html": [
       "<div>\n",
       "<style scoped>\n",
       "    .dataframe tbody tr th:only-of-type {\n",
       "        vertical-align: middle;\n",
       "    }\n",
       "\n",
       "    .dataframe tbody tr th {\n",
       "        vertical-align: top;\n",
       "    }\n",
       "\n",
       "    .dataframe thead th {\n",
       "        text-align: right;\n",
       "    }\n",
       "</style>\n",
       "<table border=\"1\" class=\"dataframe\">\n",
       "  <thead>\n",
       "    <tr style=\"text-align: right;\">\n",
       "      <th></th>\n",
       "      <th>date</th>\n",
       "      <th>open</th>\n",
       "      <th>high</th>\n",
       "      <th>low</th>\n",
       "      <th>close</th>\n",
       "      <th>Volume EOS</th>\n",
       "      <th>Volume BTC</th>\n",
       "    </tr>\n",
       "    <tr>\n",
       "      <th>unix</th>\n",
       "      <th></th>\n",
       "      <th></th>\n",
       "      <th></th>\n",
       "      <th></th>\n",
       "      <th></th>\n",
       "      <th></th>\n",
       "      <th></th>\n",
       "    </tr>\n",
       "  </thead>\n",
       "  <tbody>\n",
       "    <tr>\n",
       "      <th>1615852800000</th>\n",
       "      <td>2021-03-16</td>\n",
       "      <td>0.000069</td>\n",
       "      <td>0.000069</td>\n",
       "      <td>0.000069</td>\n",
       "      <td>0.000069</td>\n",
       "      <td>21863.05</td>\n",
       "      <td>1.501624</td>\n",
       "    </tr>\n",
       "  </tbody>\n",
       "</table>\n",
       "</div>"
      ],
      "text/plain": [
       "                      date      open      high       low     close  \\\n",
       "unix                                                                 \n",
       "1615852800000  2021-03-16   0.000069  0.000069  0.000069  0.000069   \n",
       "\n",
       "               Volume EOS  Volume BTC  \n",
       "unix                                   \n",
       "1615852800000    21863.05    1.501624  "
      ]
     },
     "execution_count": 213,
     "metadata": {},
     "output_type": "execute_result"
    }
   ],
   "source": [
    "df.head(1)"
   ]
  },
  {
   "cell_type": "code",
   "execution_count": 227,
   "metadata": {},
   "outputs": [
    {
     "data": {
      "text/plain": [
       "'2021-03-16 '"
      ]
     },
     "execution_count": 227,
     "metadata": {},
     "output_type": "execute_result"
    }
   ],
   "source": [
    "df['date'].iloc[0] "
   ]
  },
  {
   "cell_type": "markdown",
   "metadata": {},
   "source": [
    "My first value is the last one in time order, so I have to reorder my dataset."
   ]
  },
  {
   "cell_type": "code",
   "execution_count": 228,
   "metadata": {},
   "outputs": [
    {
     "data": {
      "text/html": [
       "<div>\n",
       "<style scoped>\n",
       "    .dataframe tbody tr th:only-of-type {\n",
       "        vertical-align: middle;\n",
       "    }\n",
       "\n",
       "    .dataframe tbody tr th {\n",
       "        vertical-align: top;\n",
       "    }\n",
       "\n",
       "    .dataframe thead th {\n",
       "        text-align: right;\n",
       "    }\n",
       "</style>\n",
       "<table border=\"1\" class=\"dataframe\">\n",
       "  <thead>\n",
       "    <tr style=\"text-align: right;\">\n",
       "      <th></th>\n",
       "      <th>date</th>\n",
       "      <th>open</th>\n",
       "      <th>high</th>\n",
       "      <th>low</th>\n",
       "      <th>close</th>\n",
       "      <th>Volume EOS</th>\n",
       "      <th>Volume BTC</th>\n",
       "    </tr>\n",
       "    <tr>\n",
       "      <th>unix</th>\n",
       "      <th></th>\n",
       "      <th></th>\n",
       "      <th></th>\n",
       "      <th></th>\n",
       "      <th></th>\n",
       "      <th></th>\n",
       "      <th></th>\n",
       "    </tr>\n",
       "  </thead>\n",
       "  <tbody>\n",
       "    <tr>\n",
       "      <th>1615852800000</th>\n",
       "      <td>2021-03-16</td>\n",
       "      <td>0.000069</td>\n",
       "      <td>0.000069</td>\n",
       "      <td>0.000069</td>\n",
       "      <td>0.000069</td>\n",
       "      <td>21863.05</td>\n",
       "      <td>1.501624</td>\n",
       "    </tr>\n",
       "  </tbody>\n",
       "</table>\n",
       "</div>"
      ],
      "text/plain": [
       "                      date      open      high       low     close  \\\n",
       "unix                                                                 \n",
       "1615852800000  2021-03-16   0.000069  0.000069  0.000069  0.000069   \n",
       "\n",
       "               Volume EOS  Volume BTC  \n",
       "unix                                   \n",
       "1615852800000    21863.05    1.501624  "
      ]
     },
     "execution_count": 228,
     "metadata": {},
     "output_type": "execute_result"
    }
   ],
   "source": [
    "df.head(1)"
   ]
  },
  {
   "cell_type": "code",
   "execution_count": 229,
   "metadata": {},
   "outputs": [],
   "source": [
    "df2 = df.sort_values(['date']) # SORT BY DATE"
   ]
  },
  {
   "cell_type": "markdown",
   "metadata": {},
   "source": [
    "________\n",
    "________\n",
    "________\n",
    "### Plot data"
   ]
  },
  {
   "cell_type": "code",
   "execution_count": 230,
   "metadata": {},
   "outputs": [],
   "source": [
    "def plot_time_series(dataframe, X, Y):\n",
    "    sns.set_theme(style=\"darkgrid\")\n",
    "    # build the figure\n",
    "    fig, ax = plt.subplots()\n",
    "    sns.lineplot(data=dataframe, x=X, y=Y)\n",
    "\n",
    "    # assign locator and formatter for the xaxis ticks.\n",
    "    ax.xaxis.set_major_locator(mdates.AutoDateLocator())\n",
    "\n",
    "    # put the labels at 45deg since they tend to be too long\n",
    "    fig.autofmt_xdate()\n",
    "    plt.show()\n"
   ]
  },
  {
   "cell_type": "code",
   "execution_count": 224,
   "metadata": {},
   "outputs": [
    {
     "data": {
      "image/png": "[encoded data removed]",
      "text/plain": [
       "<Figure size 432x288 with 1 Axes>"
      ]
     },
     "metadata": {},
     "output_type": "display_data"
    }
   ],
   "source": [
    "plot_time_series(df2,'date','high')"
   ]
  },
  {
   "cell_type": "code",
   "execution_count": 225,
   "metadata": {},
   "outputs": [
    {
     "data": {
      "image/png": "[encoded data removed]",
      "text/plain": [
       "<Figure size 432x288 with 1 Axes>"
      ]
     },
     "metadata": {},
     "output_type": "display_data"
    }
   ],
   "source": [
    "plot_time_series(df2,'date','Volume BTC')"
   ]
  },
  {
   "cell_type": "markdown",
   "metadata": {},
   "source": [
    "________\n",
    "________\n",
    "________\n",
    "### Backtesting"
   ]
  },
  {
   "cell_type": "code",
   "execution_count": 308,
   "metadata": {},
   "outputs": [],
   "source": [
    "TP_init = 0.2 # take profit\n",
    "SL_init = 0.3 # stop loss\n",
    "cap = 10_000  # capital\n",
    "laverage = 10 # laverage"
   ]
  },
  {
   "cell_type": "code",
   "execution_count": 325,
   "metadata": {},
   "outputs": [],
   "source": [
    "def backtest(df, capital):\n",
    "    initial_capital = capital\n",
    "    open_operation = False\n",
    "    for index, row in enumerate(df.values):\n",
    "        Date = row[0]\n",
    "        Open = row[1]\n",
    "        High = row[2]\n",
    "        Low  = row[3]\n",
    "        Close = row[4]\n",
    "\n",
    "        # buffer period\n",
    "        if int(index) > 4 and int(index) < len(df.values)-1 : \n",
    "\n",
    "                # high 1 day before         and     high 2 day before\n",
    "            if  High < df.values[index-1][2] and High < df.values[index-2][2]:\n",
    "\n",
    "                # OPEN wait one day and short if the next candle is red\n",
    "                if not open_operation and Close < df.values[index-1][4]:\n",
    "                    open_operation = True\n",
    "                    open_price = Close\n",
    "                    print('\\nopen operation : ',Date)\n",
    "                    \n",
    "                actual_price = Close\n",
    "                \n",
    "                #if capital!=initial_capital:print(capital) #debug and see if work\n",
    "                \n",
    "                if open_operation:\n",
    "                    gain = (open_price - actual_price)*capital*laverage      \n",
    "                    TP = TP_init*capital*laverage\n",
    "                    SL = SL_init*capital*laverage\n",
    "                    \n",
    "                    \n",
    "                    if (gain > TP_init or gain < -SL_init): # Close position \n",
    "                        capital += gain\n",
    "                        open_operation = False\n",
    "                        print('capital: \\t', round(capital,2))\n",
    "                        print('close operation : ',Date, ' gain: ',round(gain,3),'$')\n"
   ]
  },
  {
   "cell_type": "code",
   "execution_count": 326,
   "metadata": {},
   "outputs": [
    {
     "name": "stdout",
     "output_type": "stream",
     "text": [
      "\n",
      "open operation :  2020-12-09 \n",
      "capital: \t 10000.43\n",
      "close operation :  2020-12-12   gain:  0.43 $\n",
      "\n",
      "open operation :  2020-12-14 \n",
      "capital: \t 10000.65\n",
      "close operation :  2020-12-16   gain:  0.22 $\n",
      "\n",
      "open operation :  2020-12-17 \n",
      "capital: \t 10001.16\n",
      "close operation :  2020-12-19   gain:  0.51 $\n",
      "\n",
      "open operation :  2020-12-22 \n",
      "capital: \t 10003.37\n",
      "close operation :  2020-12-23   gain:  2.21 $\n",
      "\n",
      "open operation :  2020-12-25 \n",
      "capital: \t 10004.3\n",
      "close operation :  2020-12-26   gain:  0.93 $\n",
      "\n",
      "open operation :  2020-12-29 \n",
      "capital: \t 10004.9\n",
      "close operation :  2020-12-30   gain:  0.6 $\n",
      "\n",
      "open operation :  2020-12-31 \n",
      "capital: \t 10005.67\n",
      "close operation :  2021-01-02   gain:  0.77 $\n",
      "\n",
      "open operation :  2021-01-08 \n",
      "capital: \t 10006.17\n",
      "close operation :  2021-01-14   gain:  0.5 $\n",
      "\n",
      "open operation :  2021-01-25 \n",
      "capital: \t 10004.55\n",
      "close operation :  2021-02-15   gain:  -1.621 $\n",
      "\n",
      "open operation :  2021-02-16 \n",
      "capital: \t 10005.12\n",
      "close operation :  2021-02-21   gain:  0.57 $\n",
      "\n",
      "open operation :  2021-02-22 \n",
      "capital: \t 10005.92\n",
      "close operation :  2021-02-23   gain:  0.8 $\n",
      "\n",
      "open operation :  2021-02-24 \n",
      "capital: \t 10006.28\n",
      "close operation :  2021-03-01   gain:  0.36 $\n",
      "\n",
      "open operation :  2021-03-05 \n",
      "capital: \t 10006.71\n",
      "close operation :  2021-03-10   gain:  0.43 $\n",
      "\n",
      "open operation :  2021-03-11 \n",
      "capital: \t 10006.95\n",
      "close operation :  2021-03-12   gain:  0.24 $\n"
     ]
    }
   ],
   "source": [
    "backtest(df2,cap)"
   ]
  },
  {
   "cell_type": "markdown",
   "metadata": {},
   "source": [
    "### Statistical tests"
   ]
  },
  {
   "cell_type": "code",
   "execution_count": 57,
   "metadata": {},
   "outputs": [],
   "source": [
    "import random\n",
    "from numpy.random import seed\n",
    "from numpy.random import randn\n",
    "from scipy.stats import ttest_ind\n",
    "from scipy.stats import t"
   ]
  },
  {
   "cell_type": "code",
   "execution_count": 58,
   "metadata": {},
   "outputs": [],
   "source": [
    "seed(1)"
   ]
  },
  {
   "cell_type": "code",
   "execution_count": null,
   "metadata": {},
   "outputs": [],
   "source": [
    "# t_stat, p = ttest_ind(df['male'], df['female'])\n",
    "# print(f't={t_stat}, p={p}')"
   ]
  }
 ],
 "metadata": {
  "kernelspec": {
   "display_name": "Python 3",
   "language": "python",
   "name": "python3"
  },
  "language_info": {
   "codemirror_mode": {
    "name": "ipython",
    "version": 3
   },
   "file_extension": ".py",
   "mimetype": "text/x-python",
   "name": "python",
   "nbconvert_exporter": "python",
   "pygments_lexer": "ipython3",
   "version": "3.8.5"
  }
 },
 "nbformat": 4,
 "nbformat_minor": 4
}
